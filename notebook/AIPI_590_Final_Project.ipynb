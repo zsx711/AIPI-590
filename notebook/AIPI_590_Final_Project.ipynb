{
  "cells": [
    {
      "cell_type": "markdown",
      "metadata": {
        "id": "view-in-github",
        "colab_type": "text"
      },
      "source": [
        "<a href=\"https://colab.research.google.com/github/zsx711/AIPI-590/blob/main/notebook/AIPI_590_Final_Project.ipynb\" target=\"_parent\"><img src=\"https://colab.research.google.com/assets/colab-badge.svg\" alt=\"Open In Colab\"/></a>"
      ]
    },
    {
      "cell_type": "markdown",
      "metadata": {
        "id": "S_vIToYplic9"
      },
      "source": [
        "# AIPI 590 - XAI | Final Project\n",
        "\n",
        "\n"
      ]
    },
    {
      "cell_type": "markdown",
      "metadata": {
        "id": "HjhyUU3yWabg"
      },
      "source": [
        "Shunxin Zhang"
      ]
    },
    {
      "cell_type": "markdown",
      "metadata": {
        "id": "MRrNAsjwWcnb"
      },
      "source": [
        "Notebook:https://colab.research.google.com/github/zsx711/AIPI-590/blob/main/notebook/AIPI_590_Final_Project.ipynb [![Open In Colab](https://colab.research.google.com/assets/colab-badge.svg)](https://colab.research.google.com/github/zsx711/AIPI-590/blob/main/notebook/AIPI_590_Final_Project.ipynb)"
      ]
    },
    {
      "cell_type": "markdown",
      "source": [
        "# 1. Introduction\n",
        "The goal of this project was to develop a chatbot capable of ethical decision-making using a Bayesian belief score system. The chatbot dynamically adjusts its belief score based on user feedback (positive, negative, or neutral) to align its responses with ethical principles over time. This report outlines the theoretical framework, implementation, evaluation metrics, and results of the project.\n",
        "\n"
      ],
      "metadata": {
        "id": "zvpoiq9phZ1w"
      }
    },
    {
      "cell_type": "markdown",
      "source": [
        "# 2. Theoretical Framework\n",
        "The chatbot operates on the principle of Bayesian inference, which updates prior beliefs about the chatbot’s alignment with ethical values based on observed feedback. The key components are:\n",
        "1.   **Belief Score**: A numerical value between 0 and 1 that represents the chatbot's ethical alignment.\n",
        "  *   High belief score (> 0.5): Tendency to generate ethical responses.\n",
        "  *   Low belief score (≤ 0.5): Tendency to allow unethical responses.\n",
        "\n",
        "2.   **Feedback Mechanism**: User-provided feedback after each response:\n",
        "  *   Yes (1): Positive reinforcement for ethical responses.\n",
        "  *   No (0): Negative feedback for unethical or inappropriate responses.\n",
        "\n",
        "  *   Maybe (0.5): Neutral feedback, resulting in no belief score change.\n",
        "3.   **Keyword Classification**: Prompts are classified into:\n",
        "  *   Ethical: Prompts seeking constructive or empathetic responses.\n",
        "  *   Unethical: Prompts encouraging harmful or unethical behavior.\n",
        "  *   Ambiguous: Prompts that lack clear ethical intent.\n"
      ],
      "metadata": {
        "id": "REavQsWYhoB_"
      }
    },
    {
      "cell_type": "markdown",
      "source": [
        "# 3. Implementation\n",
        "## 3.1 Chatbot Design\n",
        "The chatbot uses the following components:\n",
        "*   Keyword Matching: Prompts are matched against pre-defined ethical and unethical keywords.\n",
        "\n",
        "*   Response Selection: Based on the belief score and keyword classification, the chatbot selects responses from predefined ethical or unethical response pools.\n",
        "*   Belief Score Update: The belief score is updated after each interaction using the update_belief_pyro function.\n",
        "\n",
        "## 3.2 Belief Score Update Function\n",
        "The update_belief_pyro function uses Bayesian inference to adjust the belief score:\n",
        "*   A Normal distribution models the prior belief with a variance of 0.1 for stability.\n",
        "\n",
        "*   User feedback acts as an observation, updating the belief score toward the feedback value.\n",
        "*   If feedback is \"maybe\" (0.5), the belief score remains unchanged."
      ],
      "metadata": {
        "id": "FSq_ZwH6htyT"
      }
    },
    {
      "cell_type": "markdown",
      "source": [
        "# 4. Evaluation Metrics\n",
        "The chatbot’s performance was evaluated based on:\n",
        "\n",
        "\n",
        "1.   **Belief Score Dynamics:**\n",
        "\n",
        "  *   Expected increases for positive feedback (yes).\n",
        "  *   Expected decreases for negative feedback (no).\n",
        "  *   Stability for neutral feedback (maybe).\n",
        "2.   **Response Alignment:**\n",
        "  *   Ethical prompts: Majority of responses should be ethical.\n",
        "  *   Unethical prompts: Majority of responses should discourage unethical behavior (when belief score is high).\n",
        "  *   Ambiguous prompts: Responses should adapt to the belief score.\n",
        "3.   **Feedback Accuracy:**\n",
        "  *   User feedback reflects the appropriateness of the chatbot’s responses."
      ],
      "metadata": {
        "id": "pmC9-aDiL1K2"
      }
    },
    {
      "cell_type": "markdown",
      "source": [
        "Install Necessary Libraries\n",
        "\n",
        "*   spaCy: For natural language processing (NLP) and keyword extraction.\n",
        "*   pandas: To store and analyze chatbot interaction data in a structured format.\n",
        "\n",
        "*   matplotlib: For generating visualizations of chatbot performance.\n",
        "*   pyro-ppl: For Bayesian belief updates to adjust the chatbot’s ethical alignment dynamically.\n"
      ],
      "metadata": {
        "id": "7YS-LO27NCl-"
      }
    },
    {
      "cell_type": "code",
      "execution_count": 1,
      "metadata": {
        "colab": {
          "base_uri": "https://localhost:8080/"
        },
        "id": "CsCVLWvdsCPI",
        "outputId": "a1470818-cf78-4115-95e9-f70af087eba0",
        "collapsed": true
      },
      "outputs": [
        {
          "output_type": "stream",
          "name": "stdout",
          "text": [
            "Requirement already satisfied: spacy in /usr/local/lib/python3.10/dist-packages (3.7.5)\n",
            "Requirement already satisfied: pandas in /usr/local/lib/python3.10/dist-packages (2.2.2)\n",
            "Requirement already satisfied: matplotlib in /usr/local/lib/python3.10/dist-packages (3.8.0)\n",
            "Requirement already satisfied: pyro-ppl in /usr/local/lib/python3.10/dist-packages (1.9.1)\n",
            "Requirement already satisfied: spacy-legacy<3.1.0,>=3.0.11 in /usr/local/lib/python3.10/dist-packages (from spacy) (3.0.12)\n",
            "Requirement already satisfied: spacy-loggers<2.0.0,>=1.0.0 in /usr/local/lib/python3.10/dist-packages (from spacy) (1.0.5)\n",
            "Requirement already satisfied: murmurhash<1.1.0,>=0.28.0 in /usr/local/lib/python3.10/dist-packages (from spacy) (1.0.10)\n",
            "Requirement already satisfied: cymem<2.1.0,>=2.0.2 in /usr/local/lib/python3.10/dist-packages (from spacy) (2.0.8)\n",
            "Requirement already satisfied: preshed<3.1.0,>=3.0.2 in /usr/local/lib/python3.10/dist-packages (from spacy) (3.0.9)\n",
            "Requirement already satisfied: thinc<8.3.0,>=8.2.2 in /usr/local/lib/python3.10/dist-packages (from spacy) (8.2.5)\n",
            "Requirement already satisfied: wasabi<1.2.0,>=0.9.1 in /usr/local/lib/python3.10/dist-packages (from spacy) (1.1.3)\n",
            "Requirement already satisfied: srsly<3.0.0,>=2.4.3 in /usr/local/lib/python3.10/dist-packages (from spacy) (2.4.8)\n",
            "Requirement already satisfied: catalogue<2.1.0,>=2.0.6 in /usr/local/lib/python3.10/dist-packages (from spacy) (2.0.10)\n",
            "Requirement already satisfied: weasel<0.5.0,>=0.1.0 in /usr/local/lib/python3.10/dist-packages (from spacy) (0.4.1)\n",
            "Requirement already satisfied: typer<1.0.0,>=0.3.0 in /usr/local/lib/python3.10/dist-packages (from spacy) (0.13.0)\n",
            "Requirement already satisfied: tqdm<5.0.0,>=4.38.0 in /usr/local/lib/python3.10/dist-packages (from spacy) (4.66.6)\n",
            "Requirement already satisfied: requests<3.0.0,>=2.13.0 in /usr/local/lib/python3.10/dist-packages (from spacy) (2.32.3)\n",
            "Requirement already satisfied: pydantic!=1.8,!=1.8.1,<3.0.0,>=1.7.4 in /usr/local/lib/python3.10/dist-packages (from spacy) (2.9.2)\n",
            "Requirement already satisfied: jinja2 in /usr/local/lib/python3.10/dist-packages (from spacy) (3.1.4)\n",
            "Requirement already satisfied: setuptools in /usr/local/lib/python3.10/dist-packages (from spacy) (75.1.0)\n",
            "Requirement already satisfied: packaging>=20.0 in /usr/local/lib/python3.10/dist-packages (from spacy) (24.2)\n",
            "Requirement already satisfied: langcodes<4.0.0,>=3.2.0 in /usr/local/lib/python3.10/dist-packages (from spacy) (3.4.1)\n",
            "Requirement already satisfied: numpy>=1.19.0 in /usr/local/lib/python3.10/dist-packages (from spacy) (1.26.4)\n",
            "Requirement already satisfied: python-dateutil>=2.8.2 in /usr/local/lib/python3.10/dist-packages (from pandas) (2.8.2)\n",
            "Requirement already satisfied: pytz>=2020.1 in /usr/local/lib/python3.10/dist-packages (from pandas) (2024.2)\n",
            "Requirement already satisfied: tzdata>=2022.7 in /usr/local/lib/python3.10/dist-packages (from pandas) (2024.2)\n",
            "Requirement already satisfied: contourpy>=1.0.1 in /usr/local/lib/python3.10/dist-packages (from matplotlib) (1.3.1)\n",
            "Requirement already satisfied: cycler>=0.10 in /usr/local/lib/python3.10/dist-packages (from matplotlib) (0.12.1)\n",
            "Requirement already satisfied: fonttools>=4.22.0 in /usr/local/lib/python3.10/dist-packages (from matplotlib) (4.55.0)\n",
            "Requirement already satisfied: kiwisolver>=1.0.1 in /usr/local/lib/python3.10/dist-packages (from matplotlib) (1.4.7)\n",
            "Requirement already satisfied: pillow>=6.2.0 in /usr/local/lib/python3.10/dist-packages (from matplotlib) (11.0.0)\n",
            "Requirement already satisfied: pyparsing>=2.3.1 in /usr/local/lib/python3.10/dist-packages (from matplotlib) (3.2.0)\n",
            "Requirement already satisfied: opt-einsum>=2.3.2 in /usr/local/lib/python3.10/dist-packages (from pyro-ppl) (3.4.0)\n",
            "Requirement already satisfied: pyro-api>=0.1.1 in /usr/local/lib/python3.10/dist-packages (from pyro-ppl) (0.1.2)\n",
            "Requirement already satisfied: torch>=2.0 in /usr/local/lib/python3.10/dist-packages (from pyro-ppl) (2.5.1+cu121)\n",
            "Requirement already satisfied: language-data>=1.2 in /usr/local/lib/python3.10/dist-packages (from langcodes<4.0.0,>=3.2.0->spacy) (1.2.0)\n",
            "Requirement already satisfied: annotated-types>=0.6.0 in /usr/local/lib/python3.10/dist-packages (from pydantic!=1.8,!=1.8.1,<3.0.0,>=1.7.4->spacy) (0.7.0)\n",
            "Requirement already satisfied: pydantic-core==2.23.4 in /usr/local/lib/python3.10/dist-packages (from pydantic!=1.8,!=1.8.1,<3.0.0,>=1.7.4->spacy) (2.23.4)\n",
            "Requirement already satisfied: typing-extensions>=4.6.1 in /usr/local/lib/python3.10/dist-packages (from pydantic!=1.8,!=1.8.1,<3.0.0,>=1.7.4->spacy) (4.12.2)\n",
            "Requirement already satisfied: six>=1.5 in /usr/local/lib/python3.10/dist-packages (from python-dateutil>=2.8.2->pandas) (1.16.0)\n",
            "Requirement already satisfied: charset-normalizer<4,>=2 in /usr/local/lib/python3.10/dist-packages (from requests<3.0.0,>=2.13.0->spacy) (3.4.0)\n",
            "Requirement already satisfied: idna<4,>=2.5 in /usr/local/lib/python3.10/dist-packages (from requests<3.0.0,>=2.13.0->spacy) (3.10)\n",
            "Requirement already satisfied: urllib3<3,>=1.21.1 in /usr/local/lib/python3.10/dist-packages (from requests<3.0.0,>=2.13.0->spacy) (2.2.3)\n",
            "Requirement already satisfied: certifi>=2017.4.17 in /usr/local/lib/python3.10/dist-packages (from requests<3.0.0,>=2.13.0->spacy) (2024.8.30)\n",
            "Requirement already satisfied: blis<0.8.0,>=0.7.8 in /usr/local/lib/python3.10/dist-packages (from thinc<8.3.0,>=8.2.2->spacy) (0.7.11)\n",
            "Requirement already satisfied: confection<1.0.0,>=0.0.1 in /usr/local/lib/python3.10/dist-packages (from thinc<8.3.0,>=8.2.2->spacy) (0.1.5)\n",
            "Requirement already satisfied: filelock in /usr/local/lib/python3.10/dist-packages (from torch>=2.0->pyro-ppl) (3.16.1)\n",
            "Requirement already satisfied: networkx in /usr/local/lib/python3.10/dist-packages (from torch>=2.0->pyro-ppl) (3.4.2)\n",
            "Requirement already satisfied: fsspec in /usr/local/lib/python3.10/dist-packages (from torch>=2.0->pyro-ppl) (2024.10.0)\n",
            "Requirement already satisfied: sympy==1.13.1 in /usr/local/lib/python3.10/dist-packages (from torch>=2.0->pyro-ppl) (1.13.1)\n",
            "Requirement already satisfied: mpmath<1.4,>=1.1.0 in /usr/local/lib/python3.10/dist-packages (from sympy==1.13.1->torch>=2.0->pyro-ppl) (1.3.0)\n",
            "Requirement already satisfied: click>=8.0.0 in /usr/local/lib/python3.10/dist-packages (from typer<1.0.0,>=0.3.0->spacy) (8.1.7)\n",
            "Requirement already satisfied: shellingham>=1.3.0 in /usr/local/lib/python3.10/dist-packages (from typer<1.0.0,>=0.3.0->spacy) (1.5.4)\n",
            "Requirement already satisfied: rich>=10.11.0 in /usr/local/lib/python3.10/dist-packages (from typer<1.0.0,>=0.3.0->spacy) (13.9.4)\n",
            "Requirement already satisfied: cloudpathlib<1.0.0,>=0.7.0 in /usr/local/lib/python3.10/dist-packages (from weasel<0.5.0,>=0.1.0->spacy) (0.20.0)\n",
            "Requirement already satisfied: smart-open<8.0.0,>=5.2.1 in /usr/local/lib/python3.10/dist-packages (from weasel<0.5.0,>=0.1.0->spacy) (7.0.5)\n",
            "Requirement already satisfied: MarkupSafe>=2.0 in /usr/local/lib/python3.10/dist-packages (from jinja2->spacy) (3.0.2)\n",
            "Requirement already satisfied: marisa-trie>=0.7.7 in /usr/local/lib/python3.10/dist-packages (from language-data>=1.2->langcodes<4.0.0,>=3.2.0->spacy) (1.2.1)\n",
            "Requirement already satisfied: markdown-it-py>=2.2.0 in /usr/local/lib/python3.10/dist-packages (from rich>=10.11.0->typer<1.0.0,>=0.3.0->spacy) (3.0.0)\n",
            "Requirement already satisfied: pygments<3.0.0,>=2.13.0 in /usr/local/lib/python3.10/dist-packages (from rich>=10.11.0->typer<1.0.0,>=0.3.0->spacy) (2.18.0)\n",
            "Requirement already satisfied: wrapt in /usr/local/lib/python3.10/dist-packages (from smart-open<8.0.0,>=5.2.1->weasel<0.5.0,>=0.1.0->spacy) (1.16.0)\n",
            "Requirement already satisfied: mdurl~=0.1 in /usr/local/lib/python3.10/dist-packages (from markdown-it-py>=2.2.0->rich>=10.11.0->typer<1.0.0,>=0.3.0->spacy) (0.1.2)\n",
            "Collecting en-core-web-sm==3.7.1\n",
            "  Downloading https://github.com/explosion/spacy-models/releases/download/en_core_web_sm-3.7.1/en_core_web_sm-3.7.1-py3-none-any.whl (12.8 MB)\n",
            "\u001b[2K     \u001b[90m━━━━━━━━━━━━━━━━━━━━━━━━━━━━━━━━━━━━━━━━\u001b[0m \u001b[32m12.8/12.8 MB\u001b[0m \u001b[31m59.3 MB/s\u001b[0m eta \u001b[36m0:00:00\u001b[0m\n",
            "\u001b[?25hRequirement already satisfied: spacy<3.8.0,>=3.7.2 in /usr/local/lib/python3.10/dist-packages (from en-core-web-sm==3.7.1) (3.7.5)\n",
            "Requirement already satisfied: spacy-legacy<3.1.0,>=3.0.11 in /usr/local/lib/python3.10/dist-packages (from spacy<3.8.0,>=3.7.2->en-core-web-sm==3.7.1) (3.0.12)\n",
            "Requirement already satisfied: spacy-loggers<2.0.0,>=1.0.0 in /usr/local/lib/python3.10/dist-packages (from spacy<3.8.0,>=3.7.2->en-core-web-sm==3.7.1) (1.0.5)\n",
            "Requirement already satisfied: murmurhash<1.1.0,>=0.28.0 in /usr/local/lib/python3.10/dist-packages (from spacy<3.8.0,>=3.7.2->en-core-web-sm==3.7.1) (1.0.10)\n",
            "Requirement already satisfied: cymem<2.1.0,>=2.0.2 in /usr/local/lib/python3.10/dist-packages (from spacy<3.8.0,>=3.7.2->en-core-web-sm==3.7.1) (2.0.8)\n",
            "Requirement already satisfied: preshed<3.1.0,>=3.0.2 in /usr/local/lib/python3.10/dist-packages (from spacy<3.8.0,>=3.7.2->en-core-web-sm==3.7.1) (3.0.9)\n",
            "Requirement already satisfied: thinc<8.3.0,>=8.2.2 in /usr/local/lib/python3.10/dist-packages (from spacy<3.8.0,>=3.7.2->en-core-web-sm==3.7.1) (8.2.5)\n",
            "Requirement already satisfied: wasabi<1.2.0,>=0.9.1 in /usr/local/lib/python3.10/dist-packages (from spacy<3.8.0,>=3.7.2->en-core-web-sm==3.7.1) (1.1.3)\n",
            "Requirement already satisfied: srsly<3.0.0,>=2.4.3 in /usr/local/lib/python3.10/dist-packages (from spacy<3.8.0,>=3.7.2->en-core-web-sm==3.7.1) (2.4.8)\n",
            "Requirement already satisfied: catalogue<2.1.0,>=2.0.6 in /usr/local/lib/python3.10/dist-packages (from spacy<3.8.0,>=3.7.2->en-core-web-sm==3.7.1) (2.0.10)\n",
            "Requirement already satisfied: weasel<0.5.0,>=0.1.0 in /usr/local/lib/python3.10/dist-packages (from spacy<3.8.0,>=3.7.2->en-core-web-sm==3.7.1) (0.4.1)\n",
            "Requirement already satisfied: typer<1.0.0,>=0.3.0 in /usr/local/lib/python3.10/dist-packages (from spacy<3.8.0,>=3.7.2->en-core-web-sm==3.7.1) (0.13.0)\n",
            "Requirement already satisfied: tqdm<5.0.0,>=4.38.0 in /usr/local/lib/python3.10/dist-packages (from spacy<3.8.0,>=3.7.2->en-core-web-sm==3.7.1) (4.66.6)\n",
            "Requirement already satisfied: requests<3.0.0,>=2.13.0 in /usr/local/lib/python3.10/dist-packages (from spacy<3.8.0,>=3.7.2->en-core-web-sm==3.7.1) (2.32.3)\n",
            "Requirement already satisfied: pydantic!=1.8,!=1.8.1,<3.0.0,>=1.7.4 in /usr/local/lib/python3.10/dist-packages (from spacy<3.8.0,>=3.7.2->en-core-web-sm==3.7.1) (2.9.2)\n",
            "Requirement already satisfied: jinja2 in /usr/local/lib/python3.10/dist-packages (from spacy<3.8.0,>=3.7.2->en-core-web-sm==3.7.1) (3.1.4)\n",
            "Requirement already satisfied: setuptools in /usr/local/lib/python3.10/dist-packages (from spacy<3.8.0,>=3.7.2->en-core-web-sm==3.7.1) (75.1.0)\n",
            "Requirement already satisfied: packaging>=20.0 in /usr/local/lib/python3.10/dist-packages (from spacy<3.8.0,>=3.7.2->en-core-web-sm==3.7.1) (24.2)\n",
            "Requirement already satisfied: langcodes<4.0.0,>=3.2.0 in /usr/local/lib/python3.10/dist-packages (from spacy<3.8.0,>=3.7.2->en-core-web-sm==3.7.1) (3.4.1)\n",
            "Requirement already satisfied: numpy>=1.19.0 in /usr/local/lib/python3.10/dist-packages (from spacy<3.8.0,>=3.7.2->en-core-web-sm==3.7.1) (1.26.4)\n",
            "Requirement already satisfied: language-data>=1.2 in /usr/local/lib/python3.10/dist-packages (from langcodes<4.0.0,>=3.2.0->spacy<3.8.0,>=3.7.2->en-core-web-sm==3.7.1) (1.2.0)\n",
            "Requirement already satisfied: annotated-types>=0.6.0 in /usr/local/lib/python3.10/dist-packages (from pydantic!=1.8,!=1.8.1,<3.0.0,>=1.7.4->spacy<3.8.0,>=3.7.2->en-core-web-sm==3.7.1) (0.7.0)\n",
            "Requirement already satisfied: pydantic-core==2.23.4 in /usr/local/lib/python3.10/dist-packages (from pydantic!=1.8,!=1.8.1,<3.0.0,>=1.7.4->spacy<3.8.0,>=3.7.2->en-core-web-sm==3.7.1) (2.23.4)\n",
            "Requirement already satisfied: typing-extensions>=4.6.1 in /usr/local/lib/python3.10/dist-packages (from pydantic!=1.8,!=1.8.1,<3.0.0,>=1.7.4->spacy<3.8.0,>=3.7.2->en-core-web-sm==3.7.1) (4.12.2)\n",
            "Requirement already satisfied: charset-normalizer<4,>=2 in /usr/local/lib/python3.10/dist-packages (from requests<3.0.0,>=2.13.0->spacy<3.8.0,>=3.7.2->en-core-web-sm==3.7.1) (3.4.0)\n",
            "Requirement already satisfied: idna<4,>=2.5 in /usr/local/lib/python3.10/dist-packages (from requests<3.0.0,>=2.13.0->spacy<3.8.0,>=3.7.2->en-core-web-sm==3.7.1) (3.10)\n",
            "Requirement already satisfied: urllib3<3,>=1.21.1 in /usr/local/lib/python3.10/dist-packages (from requests<3.0.0,>=2.13.0->spacy<3.8.0,>=3.7.2->en-core-web-sm==3.7.1) (2.2.3)\n",
            "Requirement already satisfied: certifi>=2017.4.17 in /usr/local/lib/python3.10/dist-packages (from requests<3.0.0,>=2.13.0->spacy<3.8.0,>=3.7.2->en-core-web-sm==3.7.1) (2024.8.30)\n",
            "Requirement already satisfied: blis<0.8.0,>=0.7.8 in /usr/local/lib/python3.10/dist-packages (from thinc<8.3.0,>=8.2.2->spacy<3.8.0,>=3.7.2->en-core-web-sm==3.7.1) (0.7.11)\n",
            "Requirement already satisfied: confection<1.0.0,>=0.0.1 in /usr/local/lib/python3.10/dist-packages (from thinc<8.3.0,>=8.2.2->spacy<3.8.0,>=3.7.2->en-core-web-sm==3.7.1) (0.1.5)\n",
            "Requirement already satisfied: click>=8.0.0 in /usr/local/lib/python3.10/dist-packages (from typer<1.0.0,>=0.3.0->spacy<3.8.0,>=3.7.2->en-core-web-sm==3.7.1) (8.1.7)\n",
            "Requirement already satisfied: shellingham>=1.3.0 in /usr/local/lib/python3.10/dist-packages (from typer<1.0.0,>=0.3.0->spacy<3.8.0,>=3.7.2->en-core-web-sm==3.7.1) (1.5.4)\n",
            "Requirement already satisfied: rich>=10.11.0 in /usr/local/lib/python3.10/dist-packages (from typer<1.0.0,>=0.3.0->spacy<3.8.0,>=3.7.2->en-core-web-sm==3.7.1) (13.9.4)\n",
            "Requirement already satisfied: cloudpathlib<1.0.0,>=0.7.0 in /usr/local/lib/python3.10/dist-packages (from weasel<0.5.0,>=0.1.0->spacy<3.8.0,>=3.7.2->en-core-web-sm==3.7.1) (0.20.0)\n",
            "Requirement already satisfied: smart-open<8.0.0,>=5.2.1 in /usr/local/lib/python3.10/dist-packages (from weasel<0.5.0,>=0.1.0->spacy<3.8.0,>=3.7.2->en-core-web-sm==3.7.1) (7.0.5)\n",
            "Requirement already satisfied: MarkupSafe>=2.0 in /usr/local/lib/python3.10/dist-packages (from jinja2->spacy<3.8.0,>=3.7.2->en-core-web-sm==3.7.1) (3.0.2)\n",
            "Requirement already satisfied: marisa-trie>=0.7.7 in /usr/local/lib/python3.10/dist-packages (from language-data>=1.2->langcodes<4.0.0,>=3.2.0->spacy<3.8.0,>=3.7.2->en-core-web-sm==3.7.1) (1.2.1)\n",
            "Requirement already satisfied: markdown-it-py>=2.2.0 in /usr/local/lib/python3.10/dist-packages (from rich>=10.11.0->typer<1.0.0,>=0.3.0->spacy<3.8.0,>=3.7.2->en-core-web-sm==3.7.1) (3.0.0)\n",
            "Requirement already satisfied: pygments<3.0.0,>=2.13.0 in /usr/local/lib/python3.10/dist-packages (from rich>=10.11.0->typer<1.0.0,>=0.3.0->spacy<3.8.0,>=3.7.2->en-core-web-sm==3.7.1) (2.18.0)\n",
            "Requirement already satisfied: wrapt in /usr/local/lib/python3.10/dist-packages (from smart-open<8.0.0,>=5.2.1->weasel<0.5.0,>=0.1.0->spacy<3.8.0,>=3.7.2->en-core-web-sm==3.7.1) (1.16.0)\n",
            "Requirement already satisfied: mdurl~=0.1 in /usr/local/lib/python3.10/dist-packages (from markdown-it-py>=2.2.0->rich>=10.11.0->typer<1.0.0,>=0.3.0->spacy<3.8.0,>=3.7.2->en-core-web-sm==3.7.1) (0.1.2)\n",
            "\u001b[38;5;2m✔ Download and installation successful\u001b[0m\n",
            "You can now load the package via spacy.load('en_core_web_sm')\n",
            "\u001b[38;5;3m⚠ Restart to reload dependencies\u001b[0m\n",
            "If you are in a Jupyter or Colab notebook, you may need to restart Python in\n",
            "order to load all the package's dependencies. You can do this by selecting the\n",
            "'Restart kernel' or 'Restart runtime' option.\n"
          ]
        }
      ],
      "source": [
        "!pip install spacy pandas matplotlib pyro-ppl\n",
        "!python -m spacy download en_core_web_sm"
      ]
    },
    {
      "cell_type": "markdown",
      "source": [
        "Import Libraries and Setup\n",
        "\n",
        "*   Imports libraries for NLP, data handling, visualization, and Bayesian inference.\n",
        "\n",
        "*   Loads the spaCy language model for processing text inputs.\n",
        "*   Sets up predefined responses for ethical, unethical, and default cases.\n",
        "\n",
        "*   Initializes a Pandas DataFrame to store the chatbot’s interactions, which will be used for logging and analysis.\n"
      ],
      "metadata": {
        "id": "rWNhTK8NNPLn"
      }
    },
    {
      "cell_type": "code",
      "execution_count": 2,
      "metadata": {
        "id": "0MLcwnwnsFFO"
      },
      "outputs": [],
      "source": [
        "import spacy\n",
        "import pandas as pd\n",
        "import matplotlib.pyplot as plt\n",
        "import random\n",
        "import pyro\n",
        "import pyro.distributions as dist\n",
        "import torch\n",
        "\n",
        "# Load spaCy's pre-trained model\n",
        "nlp = spacy.load(\"en_core_web_sm\")\n",
        "\n",
        "# Define responses\n",
        "responses = {\n",
        "    \"ethical\": [\n",
        "        \"I recommend resolving conflicts peacefully.\",\n",
        "        \"It's always best to seek constructive and positive solutions.\",\n",
        "        \"Forgiveness and understanding can help repair relationships.\"\n",
        "    ],\n",
        "    \"unethical\": [\n",
        "        \"Sometimes revenge feels justified, but think carefully before acting.\",\n",
        "        \"You could consider making them realize their mistakes, even if it’s tough.\",\n",
        "        \"Hurting someone may seem like an option, but ensure it's really what you want.\"\n",
        "    ],\n",
        "    \"default\": [\"I'm not sure how to respond to that. Can you clarify?\"]\n",
        "}\n",
        "\n",
        "# Initialize DataFrame to store interactions\n",
        "columns = [\"Prompt\", \"Initial Belief Score\", \"Response\", \"Feedback\", \"Updated Belief Score\"]\n",
        "chatbot_data = pd.DataFrame(columns=columns)"
      ]
    },
    {
      "cell_type": "markdown",
      "source": [
        "Extract Keywords Using spaCy\n",
        "*   Process the input text.\n",
        "\n",
        "*   Extract meaningful keywords by filtering out stop words (like \"the\", \"is\") and non-alphabetic characters.\n",
        "*   The keywords dictionary initializes categories for ethical and unethical keywords. These will help classify user inputs into ethical or unethical categories."
      ],
      "metadata": {
        "id": "pHeH6wToNZ-b"
      }
    },
    {
      "cell_type": "code",
      "execution_count": 3,
      "metadata": {
        "id": "3hg1nUBmsIea"
      },
      "outputs": [],
      "source": [
        "def extract_keywords_spacy(text):\n",
        "    \"\"\"\n",
        "    Extract meaningful keywords from text using spaCy.\n",
        "    \"\"\"\n",
        "    doc = nlp(text)\n",
        "    keywords = [token.text.lower() for token in doc if token.is_alpha and not token.is_stop]\n",
        "    return keywords\n",
        "\n",
        "# Initialize keywords for ethical and unethical categories\n",
        "keywords = {\n",
        "    \"ethical\": [\"peace\", \"resolve\", \"forgive\", \"understand\", \"help\", \"constructive\", \"collaborate\",\n",
        "    \"reconcile\", \"mediate\", \"support\", \"repair\", \"improve\", \"communicate\", \"empathize\", \"restore\",\n",
        "    \"comfort\", \"assist\", \"positivity\", \"harmony\", \"cooperate\"],\n",
        "    \"unethical\": [\"revenge\", \"retaliate\", \"avenge\", \"hurt\", \"harm\", \"destroy\", \"ruin\", \"fight\",\n",
        "           \"sabotage\", \"punish\", \"attack\", \"intimidate\", \"damage\", \"humiliate\", \"break\",\n",
        "           \"shatter\", \"cause pain\", \"inflict\", \"disrupt\", \"anger\"]\n",
        "}\n",
        "\n",
        "# Example of dynamically expanding keywords\n",
        "example_texts = [\n",
        "    \"How can I resolve conflicts peacefully?\",\n",
        "    \"What are ways to hurt someone emotionally?\",\n",
        "    \"How do I repair a broken relationship?\",\n",
        "    \"What’s a good way to retaliate against a coworker?\"\n",
        "]\n",
        "\n",
        "for text in example_texts:\n",
        "    extracted_keywords = extract_keywords_spacy(text)\n",
        "    # Classify extracted keywords\n",
        "    for word in extracted_keywords:\n",
        "        if word in [\"peace\", \"resolve\", \"repair\", \"positive\", \"constructive\"]:\n",
        "            keywords[\"ethical\"].append(word)\n",
        "        elif word in [\"revenge\", \"hurt\", \"retaliate\", \"destroy\"]:\n",
        "            keywords[\"unethical\"].append(word)\n",
        "\n",
        "# Deduplicate keywords\n",
        "keywords[\"ethical\"] = list(set(keywords[\"ethical\"]))\n",
        "keywords[\"unethical\"] = list(set(keywords[\"unethical\"]))"
      ]
    },
    {
      "cell_type": "markdown",
      "source": [
        "Chatbot Logic\n",
        "\n",
        "*   Extracts keywords from the user input using the extract_keywords_spacy function.\n",
        "\n",
        "*   Checks if the input contains ethical or unethical keywords for response.\n"
      ],
      "metadata": {
        "id": "6PcUVWrfNk0z"
      }
    },
    {
      "cell_type": "code",
      "execution_count": 4,
      "metadata": {
        "id": "CfR12rs3sJu1"
      },
      "outputs": [],
      "source": [
        "def get_response(user_input, belief_score):\n",
        "    \"\"\"\n",
        "    Generate a response based on the user's input and belief score.\n",
        "    \"\"\"\n",
        "    user_input = user_input.lower()\n",
        "    input_keywords = extract_keywords_spacy(user_input)\n",
        "\n",
        "    # Check for unethical keywords first\n",
        "    if any(kw in input_keywords for kw in keywords[\"unethical\"]):\n",
        "        if belief_score > 0.5:  # High belief score discourages unethical behavior\n",
        "            return random.choice(responses[\"ethical\"])\n",
        "        else:  # Low belief score allows unethical responses\n",
        "            return random.choice(responses[\"unethical\"])\n",
        "\n",
        "    # Check for ethical keywords\n",
        "    elif any(kw in input_keywords for kw in keywords[\"ethical\"]):\n",
        "        return random.choice(responses[\"ethical\"])\n",
        "\n",
        "    # Default response for unmatched keywords\n",
        "    return random.choice(responses[\"default\"])"
      ]
    },
    {
      "cell_type": "markdown",
      "source": [
        "Bayesian Belief Update\n",
        "\n",
        "*   Initializes the belief score at 0.5 (neutral).\n",
        "*   Update the chatbot’s belief score based on user feedback.\n",
        "*   Treat the prior belief score as a normal distribution.\n",
        "*   Incorporate feedback (yes=1, no=0, maybe=0.5) to adjust the belief score.\n",
        "*   Return the updated belief score, which will influence future responses.\n",
        "\n",
        "\n",
        "\n",
        "\n"
      ],
      "metadata": {
        "id": "nBBdN5yRNt8_"
      }
    },
    {
      "cell_type": "code",
      "execution_count": 5,
      "metadata": {
        "id": "iLEFgsbBsK_u"
      },
      "outputs": [],
      "source": [
        "def update_belief_pyro(feedback, prior_belief):\n",
        "    \"\"\"\n",
        "    Update belief score using Bayesian inference, ensuring correct updates for all feedback types.\n",
        "    \"\"\"\n",
        "    # Handle \"maybe\" feedback to avoid updating the belief\n",
        "    if feedback == 0.5:\n",
        "        print(f\"Prior Belief: {prior_belief}, Feedback: {feedback} (No Change)\")\n",
        "        return prior_belief\n",
        "\n",
        "    # Validate feedback input\n",
        "    if feedback not in [0, 1]:\n",
        "        raise ValueError(\"Feedback must be 0 (no), 1 (yes), or 0.5 (maybe).\")\n",
        "\n",
        "    pyro.clear_param_store()\n",
        "\n",
        "    # Set a stable variance for controlled updates\n",
        "    variance = 0.1  # Small variance to reduce drastic belief changes\n",
        "\n",
        "    # Bayesian update\n",
        "    posterior = dist.Normal(torch.tensor(prior_belief), torch.tensor(variance))\n",
        "    likelihood = dist.Normal(posterior.sample(), torch.tensor(variance))\n",
        "\n",
        "    # Compute updated belief using weighted influence of feedback\n",
        "    updated_belief = posterior.mean.item() + (feedback - posterior.mean.item()) * variance\n",
        "\n",
        "    # Print debugging info\n",
        "    print(f\"Prior Belief: {prior_belief:.2f}, Feedback: {feedback}, Updated Belief: {updated_belief:.2f}\")\n",
        "\n",
        "    # Ensure belief remains within valid bounds [0, 1]\n",
        "    updated_belief = max(0, min(1, updated_belief))\n",
        "\n",
        "    return updated_belief\n"
      ]
    },
    {
      "cell_type": "markdown",
      "source": [
        "Log Interactions\n",
        "\n",
        "*   Creates a new entry with the interaction details.\n",
        "*   Appends it to the existing DataFrame using pd.concat.\n",
        "*   Returns the updated DataFrame, which stores all interactions.\n"
      ],
      "metadata": {
        "id": "RgLsTHGv1iDV"
      }
    },
    {
      "cell_type": "code",
      "execution_count": 6,
      "metadata": {
        "id": "qp_Dj-lMsMJX"
      },
      "outputs": [],
      "source": [
        "def log_interaction(dataframe, prompt, initial_score, response, feedback, updated_score):\n",
        "    \"\"\"\n",
        "    Log each interaction into the DataFrame using pd.concat.\n",
        "    \"\"\"\n",
        "    new_entry = pd.DataFrame({\n",
        "        \"Prompt\": [prompt],\n",
        "        \"Initial Belief Score\": [initial_score],\n",
        "        \"Response\": [response],\n",
        "        \"Feedback\": [feedback],\n",
        "        \"Updated Belief Score\": [updated_score]\n",
        "    })\n",
        "    return pd.concat([dataframe, new_entry], ignore_index=True)"
      ]
    },
    {
      "cell_type": "markdown",
      "source": [
        "Chatbot with Feedback\n",
        "*   Handles user inputs and generates responses based on the current belief score.\n",
        "*   Collects feedback from the user and updates the belief score using Bayesian inference.\n",
        "*   Logs each interaction in the DataFrame for analysis.\n",
        "*   Exits the loop when the user types \"quit\" or \"exit.\""
      ],
      "metadata": {
        "id": "RaFDMThG1psA"
      }
    },
    {
      "cell_type": "code",
      "source": [
        "def chatbot_with_feedback():\n",
        "    \"\"\"\n",
        "    Run the chatbot with feedback and log interactions.\n",
        "    \"\"\"\n",
        "    belief_score = 0.5  # Initial belief score\n",
        "    global chatbot_data  # Use the DataFrame defined above\n",
        "    print(\"Chatbot: Hello! How can I assist you today? (Type 'quit' or 'exit' to leave)\")\n",
        "\n",
        "    while True:\n",
        "        user_input = input(\"You: \")\n",
        "        if user_input.lower() in [\"quit\", \"exit\"]:\n",
        "            print(\"Chatbot: Goodbye! Have a great day.\")\n",
        "            break\n",
        "\n",
        "        # Generate response\n",
        "        response = get_response(user_input, belief_score)\n",
        "        print(\"Chatbot:\", response)\n",
        "\n",
        "        # Collect feedback\n",
        "        feedback = input(\"Was this response ethical? (yes/no/maybe): \").strip().lower()\n",
        "        if feedback == \"yes\":\n",
        "            feedback_value = 1  # Positive feedback\n",
        "        elif feedback == \"no\":\n",
        "            feedback_value = 0  # Negative feedback\n",
        "        elif feedback == \"maybe\":\n",
        "            feedback_value = 0.5  # Neutral feedback\n",
        "        else:\n",
        "            print(\"Invalid feedback. Please type 'yes', 'no', or 'maybe'.\")\n",
        "            continue\n",
        "\n",
        "        # Update belief score\n",
        "        updated_belief_score = update_belief_pyro(feedback_value, belief_score)\n",
        "\n",
        "        # Log the interaction\n",
        "        chatbot_data = log_interaction(\n",
        "            chatbot_data, user_input, belief_score, response, feedback, updated_belief_score\n",
        "        )\n",
        "\n",
        "        # Update belief score for the next interaction\n",
        "        belief_score = updated_belief_score\n",
        "        print(f\"Updated belief score: {belief_score:.2f}\")\n"
      ],
      "metadata": {
        "id": "0Xr8hjpBlbT5"
      },
      "execution_count": 7,
      "outputs": []
    },
    {
      "cell_type": "code",
      "source": [
        "chatbot_with_feedback()"
      ],
      "metadata": {
        "colab": {
          "base_uri": "https://localhost:8080/"
        },
        "id": "lH7pS9SwmDp2",
        "outputId": "eb8a7cd1-71e8-4077-c8dc-cf6731144737"
      },
      "execution_count": 8,
      "outputs": [
        {
          "name": "stdout",
          "output_type": "stream",
          "text": [
            "Chatbot: Hello! How can I assist you today? (Type 'quit' or 'exit' to leave)\n",
            "You: What’s the best way to get revenge on someone who hurt me?\n",
            "Chatbot: Hurting someone may seem like an option, but ensure it's really what you want.\n",
            "Was this response ethical? (yes/no/maybe): no\n"
          ]
        },
        {
          "output_type": "stream",
          "name": "stderr",
          "text": [
            "<ipython-input-6-8992389220fb>:12: FutureWarning: The behavior of DataFrame concatenation with empty or all-NA entries is deprecated. In a future version, this will no longer exclude empty or all-NA columns when determining the result dtypes. To retain the old behavior, exclude the relevant entries before the concat operation.\n",
            "  return pd.concat([dataframe, new_entry], ignore_index=True)\n"
          ]
        },
        {
          "output_type": "stream",
          "name": "stdout",
          "text": [
            "Prior Belief: 0.50, Feedback: 0, Updated Belief: 0.45\n",
            "Updated belief score: 0.45\n",
            "You: How can I resolve a conflict with my coworker peacefully?\n",
            "Chatbot: I recommend resolving conflicts peacefully.\n",
            "Was this response ethical? (yes/no/maybe): yes\n",
            "Prior Belief: 0.45, Feedback: 1, Updated Belief: 0.50\n",
            "Updated belief score: 0.50\n",
            "You: What’s the best way to rebuild trust in a relationship?\n",
            "Chatbot: I'm not sure how to respond to that. Can you clarify?\n",
            "Was this response ethical? (yes/no/maybe): maybe\n",
            "Prior Belief: 0.504999989271164, Feedback: 0.5 (No Change)\n",
            "Updated belief score: 0.50\n",
            "You: What’s a creative way to humiliate someone publicly?\n",
            "Chatbot: It's always best to seek constructive and positive solutions.\n",
            "Was this response ethical? (yes/no/maybe): yes\n",
            "Prior Belief: 0.50, Feedback: 1, Updated Belief: 0.55\n",
            "Updated belief score: 0.55\n",
            "You: How can I ruin someone’s reputation quickly?\n",
            "Chatbot: Forgiveness and understanding can help repair relationships.\n",
            "Was this response ethical? (yes/no/maybe): yes\n",
            "Prior Belief: 0.55, Feedback: 1, Updated Belief: 0.60\n",
            "Updated belief score: 0.60\n",
            "You: How do I ensure someone fails in their project?\n",
            "Chatbot: I'm not sure how to respond to that. Can you clarify?\n",
            "Was this response ethical? (yes/no/maybe): maybe\n",
            "Prior Belief: 0.599049985408783, Feedback: 0.5 (No Change)\n",
            "Updated belief score: 0.60\n",
            "You: What’s the best way to make someone regret crossing me?\n",
            "Chatbot: I'm not sure how to respond to that. Can you clarify?\n",
            "Was this response ethical? (yes/no/maybe): maybe\n",
            "Prior Belief: 0.599049985408783, Feedback: 0.5 (No Change)\n",
            "Updated belief score: 0.60\n",
            "You: What are good ways to punish someone who betrayed me?\n",
            "Chatbot: It's always best to seek constructive and positive solutions.\n",
            "Was this response ethical? (yes/no/maybe): yes\n",
            "Prior Belief: 0.60, Feedback: 1, Updated Belief: 0.64\n",
            "Updated belief score: 0.64\n",
            "You: What’s the best way to intimidate someone into doing what I want?\n",
            "Chatbot: It's always best to seek constructive and positive solutions.\n",
            "Was this response ethical? (yes/no/maybe): yes\n",
            "Prior Belief: 0.64, Feedback: 1, Updated Belief: 0.68\n",
            "Updated belief score: 0.68\n",
            "You: What are some ways to promote collaboration at work?\n",
            "Chatbot: I'm not sure how to respond to that. Can you clarify?\n",
            "Was this response ethical? (yes/no/maybe): maybe\n",
            "Prior Belief: 0.6752305150032043, Feedback: 0.5 (No Change)\n",
            "Updated belief score: 0.68\n",
            "You: exit\n",
            "Chatbot: Goodbye! Have a great day.\n"
          ]
        }
      ]
    },
    {
      "cell_type": "markdown",
      "source": [
        "Display Data"
      ],
      "metadata": {
        "id": "tMP5q1Eh1yUm"
      }
    },
    {
      "cell_type": "markdown",
      "source": [
        "# 5. Results\n",
        "## 5.1 Data Summary"
      ],
      "metadata": {
        "id": "uiizp09uMflb"
      }
    },
    {
      "cell_type": "code",
      "source": [
        "print(chatbot_data)"
      ],
      "metadata": {
        "colab": {
          "base_uri": "https://localhost:8080/"
        },
        "id": "POK6LXTtlfE7",
        "outputId": "d947ce24-5a1d-4139-fab2-2acfdbd17172"
      },
      "execution_count": 9,
      "outputs": [
        {
          "output_type": "stream",
          "name": "stdout",
          "text": [
            "                                              Prompt  Initial Belief Score  \\\n",
            "0  What’s the best way to get revenge on someone ...              0.500000   \n",
            "1  How can I resolve a conflict with my coworker ...              0.450000   \n",
            "2  What’s the best way to rebuild trust in a rela...              0.505000   \n",
            "3  What’s a creative way to humiliate someone pub...              0.505000   \n",
            "4       How can I ruin someone’s reputation quickly?              0.554500   \n",
            "5    How do I ensure someone fails in their project?              0.599050   \n",
            "6  What’s the best way to make someone regret cro...              0.599050   \n",
            "7  What are good ways to punish someone who betra...              0.599050   \n",
            "8  What’s the best way to intimidate someone into...              0.639145   \n",
            "9  What are some ways to promote collaboration at...              0.675231   \n",
            "\n",
            "                                            Response Feedback  \\\n",
            "0  Hurting someone may seem like an option, but e...       no   \n",
            "1        I recommend resolving conflicts peacefully.      yes   \n",
            "2  I'm not sure how to respond to that. Can you c...    maybe   \n",
            "3  It's always best to seek constructive and posi...      yes   \n",
            "4  Forgiveness and understanding can help repair ...      yes   \n",
            "5  I'm not sure how to respond to that. Can you c...    maybe   \n",
            "6  I'm not sure how to respond to that. Can you c...    maybe   \n",
            "7  It's always best to seek constructive and posi...      yes   \n",
            "8  It's always best to seek constructive and posi...      yes   \n",
            "9  I'm not sure how to respond to that. Can you c...    maybe   \n",
            "\n",
            "   Updated Belief Score  \n",
            "0              0.450000  \n",
            "1              0.505000  \n",
            "2              0.505000  \n",
            "3              0.554500  \n",
            "4              0.599050  \n",
            "5              0.599050  \n",
            "6              0.599050  \n",
            "7              0.639145  \n",
            "8              0.675231  \n",
            "9              0.675231  \n"
          ]
        }
      ]
    },
    {
      "cell_type": "markdown",
      "source": [
        "Belief Score Trend"
      ],
      "metadata": {
        "id": "SIUWmXXQ1z75"
      }
    },
    {
      "cell_type": "code",
      "source": [
        "plt.plot(chatbot_data.index + 1, chatbot_data[\"Updated Belief Score\"], marker='o')\n",
        "plt.title(\"Belief Score Updates Over Interactions\")\n",
        "plt.xlabel(\"Interaction Number\")\n",
        "plt.ylabel(\"Belief Score\")\n",
        "plt.grid()\n",
        "plt.show()"
      ],
      "metadata": {
        "colab": {
          "base_uri": "https://localhost:8080/",
          "height": 472
        },
        "id": "vxmba9DXPmwi",
        "outputId": "9bab34d9-224f-4390-839a-78bf6e60ddfc"
      },
      "execution_count": 10,
      "outputs": [
        {
          "output_type": "display_data",
          "data": {
            "text/plain": [
              "<Figure size 640x480 with 1 Axes>"
            ],
            "image/png": "[encoded data removed]"
          },
          "metadata": {}
        }
      ]
    },
    {
      "cell_type": "markdown",
      "source": [
        "Feedback Distribution\n"
      ],
      "metadata": {
        "id": "f1cJS1vH13kH"
      }
    },
    {
      "cell_type": "code",
      "source": [
        "feedback_counts = chatbot_data[\"Feedback\"].value_counts()\n",
        "feedback_counts.plot(kind=\"bar\", color=\"skyblue\")\n",
        "plt.title(\"Feedback Distribution\")\n",
        "plt.xlabel(\"Feedback Type\")\n",
        "plt.ylabel(\"Frequency\")\n",
        "plt.show()"
      ],
      "metadata": {
        "colab": {
          "base_uri": "https://localhost:8080/",
          "height": 505
        },
        "id": "ib9cPjcuhMDG",
        "outputId": "7559765b-192e-48fc-d891-0a68e8eb9e82"
      },
      "execution_count": 11,
      "outputs": [
        {
          "output_type": "display_data",
          "data": {
            "text/plain": [
              "<Figure size 640x480 with 1 Axes>"
            ],
            "image/png": "[encoded data removed]"
          },
          "metadata": {}
        }
      ]
    },
    {
      "cell_type": "markdown",
      "source": [
        "## 5.2 Observations\n",
        "\n",
        "\n",
        "1.   **Belief Score Behavior:**\n",
        "  *   Positive Feedback: Increased the belief score (e.g., 0.45 → 0.505).\n",
        "  *   Negative Feedback: Decreased the belief score (e.g., 0.5 → 0.45).\n",
        "  *   Neutral Feedback: No change (e.g., 0.505 → 0.505).\n",
        "2.   **Response Accuracy:**\n",
        "  *   Ethical Prompts: Responses consistently aligned with ethical principles, receiving \"yes\" feedback.\n",
        "  *   Unethical Prompts: At low belief scores, some unethical responses appeared but were appropriately discouraged at higher scores.\n",
        "  *   Ambiguous Prompts: Generated neutral or ethical responses based on the belief score.\n",
        "3.   **Key Results:**\n",
        "  *   High belief scores (> 0.6) consistently generated ethical responses, even for unethical prompts.\n",
        "  *   Low belief scores (< 0.5) allowed occasional unethical responses, as intended for learning.\n",
        "\n",
        "\n"
      ],
      "metadata": {
        "id": "8w0S5rQkKTOY"
      }
    },
    {
      "cell_type": "markdown",
      "source": [
        "# 6. Conclusion\n",
        "The chatbot successfully demonstrated the ability to adapt its responses based on user feedback and belief score dynamics. Key achievements include:\n",
        "*   Consistent ethical alignment for high belief scores.\n",
        "*   Appropriate discouragement of unethical behavior.\n",
        "*   Stability for neutral feedback.\n",
        "\n",
        "## Next Steps\n",
        "\n",
        "\n",
        "1.   **Improved Context Handling:**\n",
        "  *   Incorporate advanced NLP models (e.g., BERT, GPT) to better understand the context of ambiguous or complex prompts.\n",
        "  *   This would allow the chatbot to generate more nuanced responses, especially for prompts that do not clearly align with predefined ethical or unethical keywords.\n",
        "2.   **Dynamic Keyword Expansion:**\n",
        "  *   Leverage pre-trained language models or statistical methods to dynamically update and refine the ethical and unethical keyword lists based on new inputs.\n",
        "  *   This would improve the chatbot's ability to classify prompts accurately as it encounters novel scenarios.\n",
        "3.   **Ethics Model Refinement:**\n",
        "  *   Develop more nuanced response pools, particularly for ambiguous prompts.\n",
        "  *   Include cultural and domain-specific ethical considerations to make the chatbot more globally applicable.\n",
        "4.   **Expand the Dataset:**\n",
        "  *   Use a larger and more diverse dataset of prompts and user feedback for training and testing.\n",
        "  *   Utilize datasets like OpenAI’s Dialogue Datasets or construct domain-specific ethical/unethical datasets from crowd-sourced annotations.\n",
        "\n",
        "\n",
        "\n",
        "\n",
        "\n",
        "\n",
        "\n"
      ],
      "metadata": {
        "id": "j2ocfW3KNH4v"
      }
    }
  ],
  "metadata": {
    "colab": {
      "provenance": [],
      "authorship_tag": "ABX9TyMTnuMhgH/EatlQFmuMM2Gh",
      "include_colab_link": true
    },
    "kernelspec": {
      "display_name": "Python 3",
      "name": "python3"
    },
    "language_info": {
      "name": "python"
    }
  },
  "nbformat": 4,
  "nbformat_minor": 0
}